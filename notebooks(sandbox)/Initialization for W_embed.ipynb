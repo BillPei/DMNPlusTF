{
 "cells": [
  {
   "cell_type": "heading",
   "metadata": {
    "collapsed": true
   },
   "level": 1,
   "source": [
    "Check the init for word embedding"
   ]
  },
  {
   "cell_type": "heading",
   "metadata": {},
   "level": 2,
   "source": [
    "Method 1: "
   ]
  },
  {
   "cell_type": "code",
   "execution_count": 2,
   "metadata": {},
   "outputs": [],
   "source": [
    "import tensorflow as tf\n",
    "import numpy as np\n",
    "\n",
    "sess = tf.Session()\n",
    "\n",
    "vocab_size = 10\n",
    "embed_size = 5"
   ]
  },
  {
   "cell_type": "code",
   "execution_count": 3,
   "metadata": {},
   "outputs": [],
   "source": [
    "initial_value = tf.random_uniform(shape=[vocab_size, embed_size], minval=-tf.sqrt(3.), maxval=tf.sqrt(3.), seed=5, dtype=tf.float32)\n",
    "W_embed_1_tensor= tf.Variable(initial_value, name=\"W_embed\")\n",
    "sess.run(tf.global_variables_initializer())\n",
    "W_embed_1 = sess.run(W_embed_1_tensor)"
   ]
  },
  {
   "cell_type": "heading",
   "metadata": {},
   "level": 2,
   "source": [
    "Method 3 (works)"
   ]
  },
  {
   "cell_type": "code",
   "execution_count": 16,
   "metadata": {},
   "outputs": [],
   "source": [
    "def random_uniform_init(range_num, seed=None, dtype=tf.float32):\n",
    "    def _initializer(shape, **kwargs):\n",
    "        return tf.random_uniform(shape=shape, minval=-range_num, maxval=range_num, dtype=dtype, seed=seed)\n",
    "    return _initializer\n",
    "    \n",
    "W_embed_3_tensor = tf.get_variable(\"w3_embed_\", shape=[vocab_size, embed_size], dtype=tf.float32, initializer=random_uniform_init(tf.sqrt(3.0), seed=5))\n",
    "sess.run(tf.global_variables_initializer())\n",
    "W_embed_3 = sess.run(W_embed_3_tensor)"
   ]
  },
  {
   "cell_type": "code",
   "execution_count": 18,
   "metadata": {},
   "outputs": [
    {
     "name": "stdout",
     "output_type": "stream",
     "text": [
      "True\n[[ True  True  True  True  True]\n [ True  True  True  True  True]\n [ True  True  True  True  True]\n [ True  True  True  True  True]\n [ True  True  True  True  True]\n [ True  True  True  True  True]\n [ True  True  True  True  True]\n [ True  True  True  True  True]\n [ True  True  True  True  True]\n [ True  True  True  True  True]]\n"
     ]
    }
   ],
   "source": [
    "print(np.array_equal(W_embed_1, W_embed_3))\n",
    "print(np.isclose(W_embed_1, W_embed_3))"
   ]
  },
  {
   "cell_type": "heading",
   "metadata": {},
   "level": 2,
   "source": [
    "Method 3 (does not work)"
   ]
  },
  {
   "cell_type": "code",
   "execution_count": 10,
   "metadata": {},
   "outputs": [],
   "source": [
    "sqroot_3_init = tf.contrib.layers.variance_scaling_initializer(factor=1, uniform=True, seed=5, dtype=tf.float32)\n",
    "W_embed_2_tensor = tf.get_variable(\"w2_embed_\", shape=[vocab_size, embed_size], dtype=tf.float32, initializer=sqroot_3_init)\n",
    "sess.run(tf.global_variables_initializer())\n",
    "W_embed_2 = sess.run(W_embed_2_tensor)"
   ]
  },
  {
   "cell_type": "code",
   "execution_count": 20,
   "metadata": {},
   "outputs": [
    {
     "name": "stdout",
     "output_type": "stream",
     "text": [
      "False\n[[False False False False False]\n [False False False False False]\n [False False False False False]\n [False False False False False]\n [False False False False False]\n [False False False False False]\n [False False False False False]\n [False False False False False]\n [False False False False False]\n [False False False False False]]\n"
     ]
    }
   ],
   "source": [
    "print(np.array_equal(W_embed_1, W_embed_2))\n",
    "print(np.isclose(W_embed_1, W_embed_2))"
   ]
  }
 ],
 "metadata": {
  "kernelspec": {
   "display_name": "Python 2",
   "language": "python",
   "name": "python2"
  },
  "language_info": {
   "codemirror_mode": {
    "name": "ipython",
    "version": 2.0
   },
   "file_extension": ".py",
   "mimetype": "text/x-python",
   "name": "python",
   "nbconvert_exporter": "python",
   "pygments_lexer": "ipython2",
   "version": "2.7.6"
  }
 },
 "nbformat": 4,
 "nbformat_minor": 0
}