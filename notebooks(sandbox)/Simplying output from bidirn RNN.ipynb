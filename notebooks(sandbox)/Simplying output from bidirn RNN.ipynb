{
 "cells": [
  {
   "cell_type": "heading",
   "metadata": {
    "collapsed": true
   },
   "level": 1,
   "source": [
    "Simpifying outputs from Bi Dirn RNN"
   ]
  },
  {
   "cell_type": "code",
   "execution_count": 1,
   "metadata": {},
   "outputs": [],
   "source": [
    "import tensorflow as tf\n",
    "import numpy as np\n",
    "\n",
    "sess = tf.Session()"
   ]
  },
  {
   "cell_type": "code",
   "execution_count": 2,
   "metadata": {},
   "outputs": [],
   "source": [
    "max_sentences_per_input = 5\n",
    "batch_size = 10\n",
    "hidden_size = 3\n",
    "facts_np = np.float32(np.random.rand(max_sentences_per_input, batch_size, 2*hidden_size))\n",
    "#facts_from_fusion_layer dim: [max_sentences_per_input, [batch_size, 2*hidden_size]]"
   ]
  },
  {
   "cell_type": "code",
   "execution_count": 8,
   "metadata": {},
   "outputs": [
    {
     "name": "stdout",
     "output_type": "stream",
     "text": [
      "(5, 10, 6)\n(10, 6)\n"
     ]
    }
   ],
   "source": [
    "facts_1 = tf.Variable(facts_np)\n",
    "print(facts_1.get_shape())\n",
    "facts_1 = tf.unstack(facts_1, axis=0)\n",
    "print(facts_1[0].get_shape())\n",
    "facts_1 = [tf.reduce_sum(tf.pack(tf.split(1, 2, out)), 0) for out in facts_1]\n",
    "sess.run(tf.global_variables_initializer())\n",
    "facts_1_out = sess.run(facts_1)"
   ]
  },
  {
   "cell_type": "heading",
   "metadata": {},
   "level": 2,
   "source": [
    "Method 2: Using Split"
   ]
  },
  {
   "cell_type": "code",
   "execution_count": 43,
   "metadata": {},
   "outputs": [],
   "source": [
    "sess.run(tf.global_variables_initializer())\n",
    "#fact3 = tf.reduce_sum(tf.split_v(value=facts_np, size_splits=2, split_dim=2), axis=2)\n",
    "fact3 = tf.unstack(facts_np, axis=0)\n",
    "fact3 = tf.split(value=fact3, num_split=2, split_dim=2)\n",
    "fact_3_out= sess.run(fact3)\n",
    "fact_3_out_1= sess.run(tf.reduce_sum(fact3, axis=0))"
   ]
  },
  {
   "cell_type": "code",
   "execution_count": 44,
   "metadata": {},
   "outputs": [
    {
     "data": {
      "text/plain": [
       "True"
      ]
     },
     "execution_count": 44,
     "metadata": {},
     "output_type": "execute_result"
    }
   ],
   "source": [
    "np.array_equal(facts_1_out, fact_3_out_1)"
   ]
  },
  {
   "cell_type": "heading",
   "metadata": {},
   "level": 2,
   "source": [
    "Appendix"
   ]
  },
  {
   "cell_type": "code",
   "execution_count": 14,
   "metadata": {},
   "outputs": [
    {
     "name": "stdout",
     "output_type": "stream",
     "text": [
      "(10, 6)\n"
     ]
    },
    {
     "data": {
      "text/plain": [
       "(5, 10, 6)"
      ]
     },
     "execution_count": 14,
     "metadata": {},
     "output_type": "execute_result"
    }
   ],
   "source": [
    "def split_and_add(x):\n",
    "    num_cols = x.get_shape().as_list()[1]\n",
    "    \n",
    "    return x\n",
    "\n",
    "sess.run(tf.global_variables_initializer())\n",
    "sess.run(tf.map_fn(split_and_add, facts_np)).shape"
   ]
  }
 ],
 "metadata": {
  "kernelspec": {
   "display_name": "Python 2",
   "language": "python",
   "name": "python2"
  },
  "language_info": {
   "codemirror_mode": {
    "name": "ipython",
    "version": 2.0
   },
   "file_extension": ".py",
   "mimetype": "text/x-python",
   "name": "python",
   "nbconvert_exporter": "python",
   "pygments_lexer": "ipython2",
   "version": "2.7.6"
  }
 },
 "nbformat": 4,
 "nbformat_minor": 0
}