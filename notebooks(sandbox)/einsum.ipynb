{
 "cells": [
  {
   "cell_type": "code",
   "execution_count": 6,
   "metadata": {
    "collapsed": true
   },
   "outputs": [],
   "source": [
    "import numpy as np\n",
    "import tensorflow as tf\n",
    "import time\n",
    "sess = tf.Session()"
   ]
  },
  {
   "cell_type": "code",
   "execution_count": 9,
   "metadata": {},
   "outputs": [],
   "source": [
    "a = tf.constant(np.random.rand(30,40,50))\n",
    "b = tf.constant(np.random.rand(50,40))"
   ]
  },
  {
   "cell_type": "heading",
   "metadata": {},
   "level": 2,
   "source": [
    "Method 1: using looping"
   ]
  },
  {
   "cell_type": "code",
   "execution_count": 10,
   "metadata": {},
   "outputs": [
    {
     "name": "stdout",
     "output_type": "stream",
     "text": [
      "0.2387843479226106 seconds\n(30, 40, 40)\n"
     ]
    }
   ],
   "source": [
    "start_time = time.clock()\n",
    "a_len = a.get_shape().as_list()[0]\n",
    "outputs = []\n",
    "for i in range(a_len):\n",
    "    outputs.append(tf.matmul(a[i], b))\n",
    "output_from_looping = sess.run(outputs)\n",
    "print(time.clock() - start_time, \"seconds\")\n",
    "output_from_looping = np.array(output_from_looping)\n",
    "print(output_from_looping.shape)"
   ]
  },
  {
   "cell_type": "heading",
   "metadata": {},
   "level": 2,
   "source": [
    "Method 2: using einsum"
   ]
  },
  {
   "cell_type": "code",
   "execution_count": 11,
   "metadata": {},
   "outputs": [
    {
     "name": "stdout",
     "output_type": "stream",
     "text": [
      "0.0351566568617514 seconds\n(30, 40, 40)\n"
     ]
    }
   ],
   "source": [
    "start_time = time.clock()\n",
    "output_from_enisum_tensor = tf.einsum('ijk,kl->ijl',a,b)\n",
    "output_from_enisum = sess.run(output_from_enisum_tensor)\n",
    "print(time.clock() - start_time, \"seconds\")\n",
    "print(output_from_enisum.shape)"
   ]
  },
  {
   "cell_type": "code",
   "execution_count": 12,
   "metadata": {},
   "outputs": [
    {
     "data": {
      "text/plain": [
       "True"
      ]
     },
     "execution_count": 12,
     "metadata": {},
     "output_type": "execute_result"
    }
   ],
   "source": [
    "np.array_equal(output_from_looping, output_from_enisum)"
   ]
  },
  {
   "cell_type": "heading",
   "metadata": {},
   "level": 2,
   "source": [
    "Replicating the DMN code using einsum"
   ]
  },
  {
   "cell_type": "code",
   "execution_count": null,
   "metadata": {},
   "outputs": [],
   "source": [
    "hidden_size = 80\n",
    "batch_size = 128\n",
    "num_attention_features = 4\n",
    "max_sentences_per_input = 6\n",
    "\n",
    "b1_val = np.random.rand(hidden_size,)\n",
    "b2_val = np.random.rand(1)\n",
    "w1_val = np.random.rand(num_attention_features*hidden_size, hidden_size)\n",
    "w2_val = np.random.rand(hidden_size, 1)\n",
    "\n",
    "#dim: [max_sentences_per_input, batch_size, 4*hidden_size]\n",
    "feature_vectors_val = np.random.rand(max_sentences_per_input,batch_size,num_attention_features*hidden_size)\n",
    "\n",
    "feature_vectors = tf.constant(feature_vectors_val)\n",
    "b_1 = tf.constant(b1_val)\n",
    "b_2 = tf.constant(b2_val)\n",
    "W_1 = tf.constant(w1_val)\n",
    "W_2 = tf.constant(w2_val)"
   ]
  },
  {
   "cell_type": "heading",
   "metadata": {},
   "level": 2,
   "source": [
    "Option 1: Using loops"
   ]
  },
  {
   "cell_type": "code",
   "execution_count": 20,
   "metadata": {},
   "outputs": [
    {
     "name": "stdout",
     "output_type": "stream",
     "text": [
      "0.11036152987048808 seconds\n(6, 128, 1)\n"
     ]
    }
   ],
   "source": [
    "output_from_looping = []\n",
    "start_time = time.clock()\n",
    "for i in range(max_sentences_per_input):\n",
    "    output_from_looping.append(tf.matmul(tf.tanh(tf.matmul(feature_vectors[i], W_1) + b_1), W_2) + b_2)\n",
    "output_from_looping_val = sess.run(output_from_looping)\n",
    "print(time.clock() - start_time, \"seconds\")\n",
    "output_from_looping_val = np.array(output_from_looping_val)\n",
    "print(output_from_looping_val.shape)"
   ]
  },
  {
   "cell_type": "heading",
   "metadata": {},
   "level": 2,
   "source": [
    "Option 2: Using einsum"
   ]
  },
  {
   "cell_type": "heading",
   "metadata": {},
   "level": 2,
   "source": [
    "2a: Simple"
   ]
  },
  {
   "cell_type": "code",
   "execution_count": 23,
   "metadata": {},
   "outputs": [
    {
     "name": "stdout",
     "output_type": "stream",
     "text": [
      "0.05832846128737401 seconds\n(6, 128, 1)\n"
     ]
    }
   ],
   "source": [
    "#tf.matmul(tf.tanh(tf.matmul(feature_vectors[i], W_1) + b_1), W_2) + b_2\n",
    "start_time = time.clock()\n",
    "output_from_matmul_feature_W1 = tf.einsum('ijk,kl->ijl', feature_vectors, W_1)\n",
    "inner_term = tf.tanh(output_from_matmul_feature_W1 + b_1)\n",
    "full_term = tf.einsum('ijk,kl->ijl', inner_term, W_2) + b_2\n",
    "output_from_enisum_val = sess.run(full_term)\n",
    "print(time.clock() - start_time, \"seconds\")\n",
    "print(output_from_enisum_val.shape)"
   ]
  },
  {
   "cell_type": "code",
   "execution_count": 24,
   "metadata": {},
   "outputs": [
    {
     "data": {
      "text/plain": [
       "True"
      ]
     },
     "execution_count": 24,
     "metadata": {},
     "output_type": "execute_result"
    }
   ],
   "source": [
    "np.array_equal(output_from_looping_val, output_from_enisum_val)"
   ]
  },
  {
   "cell_type": "heading",
   "metadata": {},
   "level": 2,
   "source": [
    "2b: with function"
   ]
  },
  {
   "cell_type": "code",
   "execution_count": 64,
   "metadata": {},
   "outputs": [],
   "source": [
    "def matmul_3d_2d(X_3d, W_2d, bias_to_add=None):\n",
    "    #bias can be 1d or 0d\n",
    "    out = tf.einsum('ijk,kl->ijl', X_3d, W_2d)\n",
    "    if bias_to_add is not None:\n",
    "        out += bias_to_add\n",
    "    return out"
   ]
  },
  {
   "cell_type": "code",
   "execution_count": 67,
   "metadata": {},
   "outputs": [
    {
     "name": "stdout",
     "output_type": "stream",
     "text": [
      "0.06390198026838334 seconds\nTrue\n(6, 128, 1)\n"
     ]
    }
   ],
   "source": [
    "start_time = time.clock()\n",
    "\n",
    "inner_term = tf.tanh(matmul_3d_2d(feature_vectors, W_1, b_1))\n",
    "attentions = matmul_3d_2d(inner_term, W_2, b_2)\n",
    "output_from_enisum_fn_val = sess.run(attentions)\n",
    "\n",
    "print(time.clock() - start_time, \"seconds\")\n",
    "print(np.array_equal(output_from_enisum_val, output_from_enisum_fn_val))\n",
    "print(output_from_enisum_val.shape)"
   ]
  },
  {
   "cell_type": "code",
   "execution_count": 66,
   "metadata": {},
   "outputs": [
    {
     "data": {
      "text/plain": [
       "True"
      ]
     },
     "execution_count": 66,
     "metadata": {},
     "output_type": "execute_result"
    }
   ],
   "source": [
    "np.array_equal(output_from_enisum_val, output_from_enisum_fn_val)"
   ]
  },
  {
   "cell_type": "code",
   "execution_count": null,
   "metadata": {},
   "outputs": [],
   "source": [
    ""
   ]
  },
  {
   "cell_type": "heading",
   "metadata": {},
   "level": 2,
   "source": [
    "Other experiment: tf.matmul will not broadcast! (even 3dx1d will not work)"
   ]
  },
  {
   "cell_type": "code",
   "execution_count": 51,
   "metadata": {},
   "outputs": [
    {
     "data": {
      "text/plain": [
       "True"
      ]
     },
     "execution_count": 51,
     "metadata": {},
     "output_type": "execute_result"
    }
   ],
   "source": [
    "a = np.random.rand(20,30,40)\n",
    "b = np.random.rand(40,1)\n",
    "b_squeeze = np.squeeze(b)\n",
    "c = np.matmul(a,b)\n",
    "d = np.matmul(a, b_squeeze)\n",
    "np.array_equal(np.squeeze(c), d)"
   ]
  },
  {
   "cell_type": "code",
   "execution_count": 57,
   "metadata": {},
   "outputs": [],
   "source": [
    "#will not work: c_tensor_val = sess.run(tf.matmul(a, b))\n",
    "c_tensor_einsum_val = sess.run(tf.einsum('ijk,kl->ijl', tf.constant(a), tf.constant(b))+1)\n",
    "#d_tensor_val = sess.run(tf.matmul(a, b_squeeze))\n",
    "#np.array_equal(c_tensor_einsum_val, d_tensor_val)"
   ]
  },
  {
   "cell_type": "code",
   "execution_count": null,
   "metadata": {},
   "outputs": [],
   "source": [
    ""
   ]
  }
 ],
 "metadata": {
  "kernelspec": {
   "display_name": "Python 2",
   "language": "python",
   "name": "python2"
  },
  "language_info": {
   "codemirror_mode": {
    "name": "ipython",
    "version": 2.0
   },
   "file_extension": ".py",
   "mimetype": "text/x-python",
   "name": "python",
   "nbconvert_exporter": "python",
   "pygments_lexer": "ipython2",
   "version": "2.7.6"
  }
 },
 "nbformat": 4,
 "nbformat_minor": 0
}