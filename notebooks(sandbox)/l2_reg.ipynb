{
 "cells": [
  {
   "cell_type": "heading",
   "metadata": {
    "collapsed": true
   },
   "level": 1,
   "source": [
    ""
   ]
  },
  {
   "cell_type": "heading",
   "metadata": {},
   "level": 1,
   "source": [
    "To test Tensorflow's built-in regularization function"
   ]
  },
  {
   "cell_type": "code",
   "execution_count": 1,
   "metadata": {},
   "outputs": [],
   "source": [
    "import tensorflow as tf\n",
    "import numpy as np\n",
    "\n",
    "sess = tf.Session()\n",
    "\n",
    "reg = 0.8\n",
    "w1_val = np.float32(np.random.rand(5, 10))\n",
    "w2_val = np.float32(np.random.rand(5, 10))"
   ]
  },
  {
   "cell_type": "heading",
   "metadata": {},
   "level": 2,
   "source": [
    "Method 1: Manually create a function"
   ]
  },
  {
   "cell_type": "code",
   "execution_count": 2,
   "metadata": {},
   "outputs": [
    {
     "name": "stdout",
     "output_type": "stream",
     "text": [
      "15.5354\n"
     ]
    }
   ],
   "source": [
    "w1_manual = tf.Variable(w1_val)\n",
    "w2_manual = tf.Variable(w2_val)\n",
    "loss_manual_tensor = reg * 0.5* (tf.reduce_sum(tf.multiply(w1_manual, w1_manual)) + tf.reduce_sum(tf.multiply(w2_manual, w2_manual)))\n",
    "sess.run(tf.global_variables_initializer())\n",
    "loss_manual = sess.run(loss_manual_tensor)\n",
    "print(loss_manual)"
   ]
  },
  {
   "cell_type": "heading",
   "metadata": {},
   "level": 2,
   "source": [
    "Method 2: Using Tensorflow's function"
   ]
  },
  {
   "cell_type": "code",
   "execution_count": 3,
   "metadata": {},
   "outputs": [
    {
     "name": "stdout",
     "output_type": "stream",
     "text": [
      "15.5354\n"
     ]
    }
   ],
   "source": [
    "l2_reg = tf.contrib.layers.l2_regularizer(1.0)\n",
    "\n",
    "def _init_w1():\n",
    "    def _initializer(shape, **kwargs):        \n",
    "        return w1_val\n",
    "    return _initializer\n",
    "\n",
    "def _init_w2():    \n",
    "    def _initializer(shape, **kwargs):        \n",
    "        return w2_val\n",
    "    return _initializer\n",
    "\n",
    "w1 = tf.get_variable(\"w1\", shape=(5,10), initializer=_init_w1(), regularizer=l2_reg)\n",
    "w2 = tf.get_variable(\"w2\", shape=(5,10), initializer=_init_w2(), regularizer=l2_reg)\n",
    "\n",
    "reg_losses = tf.get_collection(tf.GraphKeys.REGULARIZATION_LOSSES)\n",
    "loss = reg * sum(reg_losses)\n",
    "\n",
    "sess.run(tf.global_variables_initializer())\n",
    "loss_tf = sess.run(loss)\n",
    "print(loss_tf)"
   ]
  },
  {
   "cell_type": "code",
   "execution_count": 4,
   "metadata": {},
   "outputs": [
    {
     "name": "stdout",
     "output_type": "stream",
     "text": [
      "True\nTrue\n"
     ]
    }
   ],
   "source": [
    "print(np.array_equal(loss_manual, loss_tf))\n",
    "print(np.isclose(loss_manual, loss_tf))"
   ]
  },
  {
   "cell_type": "heading",
   "metadata": {},
   "level": 2,
   "source": [
    "Appendix"
   ]
  },
  {
   "cell_type": "code",
   "execution_count": 14,
   "metadata": {},
   "outputs": [
    {
     "data": {
      "text/plain": [
       "91"
      ]
     },
     "execution_count": 14,
     "metadata": {},
     "output_type": "execute_result"
    }
   ],
   "source": [
    "a = np.array([[1,2,3], [4,5,6]])\n",
    "b = np.array([[1,2,3], [4,5,6]])\n",
    "a_var = tf.Variable(a)\n",
    "b_var = tf.Variable(b)\n",
    "\n",
    "sess.run(tf.global_variables_initializer())\n",
    "sess.run(tf.reduce_sum(tf.multiply(a_var, b_var)))"
   ]
  },
  {
   "cell_type": "code",
   "execution_count": 5,
   "metadata": {},
   "outputs": [
    {
     "data": {
      "text/plain": [
       "array([[ 0.78308451,  0.35677004,  0.67790425,  0.25351229,  0.39706996,\n         0.27493706,  0.20165327,  0.51347625,  0.24966949,  0.31834093],\n       [ 0.76859432,  0.03363769,  0.37258661,  0.49900144,  0.28623518,\n         0.13065754,  0.75556535,  0.57474774,  0.22352527,  0.65289718],\n       [ 0.3910673 ,  0.66774738,  0.54718292,  0.96599239,  0.71786702,\n         0.60106015,  0.04071166,  0.99934149,  0.73738891,  0.31162101],\n       [ 0.60252845,  0.49688423,  0.16778611,  0.3584201 ,  0.18266922,\n         0.24003889,  0.94798386,  0.78637773,  0.01702681,  0.68829334],\n       [ 0.24545169,  0.85154223,  0.8294512 ,  0.53530085,  0.29765758,\n         0.72905672,  0.05792727,  0.66070688,  0.89547712,  0.86120671]], dtype=float32)"
      ]
     },
     "execution_count": 5,
     "metadata": {},
     "output_type": "execute_result"
    }
   ],
   "source": [
    "b"
   ]
  },
  {
   "cell_type": "code",
   "execution_count": 10,
   "metadata": {},
   "outputs": [
    {
     "data": {
      "text/plain": [
       "array([[ 0.63180751,  0.91636744,  0.876438  ,  0.43857708,  0.62848385,\n         0.58817513,  0.0025117 ,  0.60903038,  0.16132171,  0.95127236],\n       [ 0.38559711,  0.94596618,  0.38799965,  0.48400212,  0.79468586,\n         0.89816887,  0.03479057,  0.15821598,  0.85314406,  0.62990935],\n       [ 0.75275929,  0.76154483,  0.14472498,  0.80171015,  0.03789203,\n         0.03377915,  0.21802636,  0.65204804,  0.80441927,  0.21800782],\n       [ 0.67610447,  0.25951383,  0.15917846,  0.01143784,  0.33383518,\n         0.19780242,  0.6103484 ,  0.75970449,  0.91252376,  0.7877692 ],\n       [ 0.55017954,  0.66362917,  0.48956517,  0.11492145,  0.15084018,\n         0.447284  ,  0.86953649,  0.27574957,  0.60611223,  0.40633258]])"
      ]
     },
     "execution_count": 10,
     "metadata": {},
     "output_type": "execute_result"
    }
   ],
   "source": [
    "w1_val"
   ]
  },
  {
   "cell_type": "code",
   "execution_count": 3,
   "metadata": {},
   "outputs": [],
   "source": [
    "#tf.reset_default_graph()\n",
    "\n",
    "def _init():    \n",
    "    def _initializer(shape, **kwargs):        \n",
    "        return w1_val\n",
    "    return _initializer\n",
    "\n",
    "w1 = tf.get_variable(\"w1\", shape=(5,10), initializer=_init())\n",
    "sess.run(tf.global_variables_initializer())\n",
    "b = sess.run(w1)"
   ]
  }
 ],
 "metadata": {
  "kernelspec": {
   "display_name": "Python 2",
   "language": "python",
   "name": "python2"
  },
  "language_info": {
   "codemirror_mode": {
    "name": "ipython",
    "version": 2.0
   },
   "file_extension": ".py",
   "mimetype": "text/x-python",
   "name": "python",
   "nbconvert_exporter": "python",
   "pygments_lexer": "ipython2",
   "version": "2.7.6"
  }
 },
 "nbformat": 4,
 "nbformat_minor": 0
}